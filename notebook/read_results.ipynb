{
 "cells": [
  {
   "cell_type": "code",
   "execution_count": 45,
   "id": "233736e4-962f-4228-a5f9-ec7f2c84a263",
   "metadata": {},
   "outputs": [],
   "source": [
    "from scripts.qa_lr import *"
   ]
  },
  {
   "cell_type": "code",
   "execution_count": null,
   "id": "1509fdc8-a685-43aa-98bf-bb5a2f0bfe48",
   "metadata": {},
   "outputs": [],
   "source": []
  },
  {
   "cell_type": "code",
   "execution_count": null,
   "id": "69ea97f2-a4a4-42ca-a873-591fd6f7dd3e",
   "metadata": {},
   "outputs": [],
   "source": [
    "bad_ballsb=[]\n",
    "bad_values_locb=[]\n",
    "bad_values_globb=[]\n",
    "worst_bb=\"\"\n",
    "\n",
    "with open(\"energy_log.txt\",'r') as f:\n",
    "    for li in f.readlines():\n",
    "        l=li.split(' ')\n",
    "        if li[0]=='p':\n",
    "            bad_ballsb.append(l[0])\n",
    "            bad_values_globb.append(float(l[-1]))\n",
    "        elif li[0]==\"H\":\n",
    "            worst_bb=l[2]\n",
    "            bad_values_locb.append(float(l[-1]))\n",
    "        elif li[0]=='L':\n",
    "            bad_values_locb.append(float(l[-1]))\n",
    "            \n",
    "    f.close()\n",
    "    \n",
    "dict_balls={}\n",
    "for b in bad_ballsb:\n",
    "    num=b[6:9]\n",
    "    if num not in dict_balls.keys():\n",
    "        dict_balls[num]=0\n",
    "    dict_balls[num]+=1\n",
    "    \n",
    "balls2plot_loc=[]\n",
    "for i,v in enumerate(bad_values_locb):\n",
    "    if v<0.70576:\n",
    "        balls2plot_loc.append(bad_ballsb[i])\n",
    "        \n",
    "balls2plot_glob=[]\n",
    "for i,v in enumerate(bad_values_globb):\n",
    "    if v<0.6942:\n",
    "        balls2plot_glob.append(bad_ballsb[i])\n",
    "        \n"
   ]
  },
  {
   "cell_type": "code",
   "execution_count": null,
   "id": "eb99a13d-966d-4959-8ab6-c9662d53782a",
   "metadata": {},
   "outputs": [],
   "source": []
  },
  {
   "cell_type": "code",
   "execution_count": null,
   "id": "a114b499-9885-4bff-8b91-f1e1a7d137fc",
   "metadata": {},
   "outputs": [],
   "source": [
    "d=3\n",
    "r=2*3+2\n",
    "msglob=[[] for _ in range(18)]\n",
    "msloc=[[] for _ in range(18)]\n",
    "\n",
    "\n",
    "for a in np.linspace(1,2,51):\n",
    "    solsloc=[[] for _ in range(18)]\n",
    "    solsglob=[[] for _ in range(18)]\n",
    "    \n",
    "    for t in np.linspace(2.65,3.8,111):    \n",
    "\n",
    "        for i in range(18):\n",
    "            g = nx.read_adjlist(f\"hballs/p=3/{balls2plot_loc[i]}\")\n",
    "            edge_energy_loc = edge_energy(g, t, a)\n",
    "            \n",
    "            \n",
    "            solsloc[i].append((edge_energy_loc-loc_lr_p3(g,t,a),t))\n",
    "            \n",
    "            g = nx.read_adjlist(f\"hballs/p=3/{balls2plot_glob[i]}\")\n",
    "            edge_energy_glob = edge_energy(g, t, a)\n",
    "            solsglob[i].append((edge_energy_glob-lr_alpha(r,d,t,a),t))\n",
    "\n",
    "    for i in range(18):\n",
    "        msloc[i].append(max(solsloc[i]))\n",
    "        msglob[i].append(max(solsglob[i]))\n"
   ]
  },
  {
   "cell_type": "code",
   "execution_count": null,
   "id": "d6a22fbc-5425-42a1-ac6c-a34ab0c090a5",
   "metadata": {},
   "outputs": [],
   "source": [
    "for i in range(18):\n",
    "    plt.plot(np.linspace(1,2,51), np.array(msloc[i])[:,0])#, label=f\"{i}\")\n",
    "\n",
    "plt.hlines(0.6925,1,2,'k','--',label=\"QAOA ratio\")\n",
    "plt.hlines(0.6980,1,2,'b','--',label=\"Hastings ratio\")\n",
    "plt.hlines(0.7,1,2,'r','--',label=\"0.7\")\n",
    "\n",
    "plt.xlabel(\"alpha\")\n",
    "#plt.title(\"max_T [<O_X>_{G,alpha} - epsilon(p=3,T,alpha,B)] against alpha\")\n",
    "plt.legend()\n",
    "\n",
    "plt.savefig(\"worst_ratio_loc3.pdf\")\n",
    "min(max(msloc[i]) for i in range(18))"
   ]
  },
  {
   "cell_type": "code",
   "execution_count": null,
   "id": "74251c4c-e708-4512-98a3-d647d3db5a82",
   "metadata": {},
   "outputs": [],
   "source": [
    "for i in range(18):\n",
    "    plt.plot(np.linspace(1,2,51), np.array(msglob[i])[:,0])#, label=f\"{i}\")\n",
    "\n",
    "plt.hlines(0.6925,1,2,'k','--',label=\"QAOA ratio\")\n",
    "plt.hlines(0.6980,1,2,'b','--',label=\"Hastings ratio\")\n",
    "plt.hlines(0.7,1,2,'r','--',label=\"0.7\")\n",
    "\n",
    "plt.xlabel(\"alpha\")\n",
    "#plt.title(\"max_T [<O_X>_{G,alpha} - epsilon(p=3,T,alpha,B)] against alpha\")\n",
    "plt.legend()\n",
    "\n",
    "plt.savefig(\"worst_ratio_glob.pdf\")\n",
    "min(max(msglob[i]) for i in range(18))"
   ]
  },
  {
   "cell_type": "code",
   "execution_count": null,
   "id": "8c289cdf-0d34-4a17-a21c-b8be0d164a85",
   "metadata": {},
   "outputs": [],
   "source": []
  }
 ],
 "metadata": {
  "kernelspec": {
   "display_name": "Python 3 (ipykernel)",
   "language": "python",
   "name": "python3"
  },
  "language_info": {
   "codemirror_mode": {
    "name": "ipython",
    "version": 3
   },
   "file_extension": ".py",
   "mimetype": "text/x-python",
   "name": "python",
   "nbconvert_exporter": "python",
   "pygments_lexer": "ipython3",
   "version": "3.8.9"
  }
 },
 "nbformat": 4,
 "nbformat_minor": 5
}
